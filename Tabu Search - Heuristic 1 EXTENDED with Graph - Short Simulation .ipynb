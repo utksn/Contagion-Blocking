{
 "cells": [
  {
   "cell_type": "markdown",
   "metadata": {
    "id": "a5A4VF3loLuO"
   },
   "source": [
    "TABU- HEURISTIC 1"
   ]
  },
  {
   "cell_type": "code",
   "execution_count": 1,
   "metadata": {
    "colab": {
     "base_uri": "https://localhost:8080/"
    },
    "id": "t3f1efMPWIyu",
    "outputId": "90206e0d-e0a9-4432-abd0-bf952ce96d02"
   },
   "outputs": [],
   "source": [
    "import numpy as np\n",
    "import random\n",
    "import pandas as pd\n",
    "import copy\n",
    "from collections import defaultdict\n",
    "from networkx import nx\n",
    "from copy import copy\n",
    "import time"
   ]
  },
  {
   "cell_type": "code",
   "execution_count": 2,
   "metadata": {},
   "outputs": [],
   "source": [
    "adjacency_df=pd.DataFrame(pd.read_csv(\"C:/Users/Lenovo/Desktop/adjacency_df-n100-m400.csv\"))\n",
    "\n",
    "n = len(adjacency_df)\n",
    "\n",
    "adjacency_df.columns=(range(1,(n+4)))\n",
    "adjacency_df=adjacency_df.rename(columns={n+1:'Threshold',n+2:'IsInfected', n+3:'IsRisky' },errors='raise')\n",
    "\n",
    "adjacency_df.index=(range(1,(n+1)))\n",
    "\n",
    "m=((adjacency_df.loc[:,range(1,n+1)]>0).sum().sum())/2\n",
    "\n",
    "\n",
    "zeros=[1,0.3,0.1]\n",
    "ones=[1,0.5,0.3]"
   ]
  },
  {
   "cell_type": "code",
   "execution_count": 3,
   "metadata": {},
   "outputs": [
    {
     "data": {
      "text/plain": [
       "Int64Index([  1,   2,   3,   5,   7,   8,   9,  10,  11,  12,  14,  17,  18,\n",
       "             19,  20,  23,  24,  25,  28,  29,  30,  31,  35,  37,  38,  39,\n",
       "             40,  42,  45,  46,  47,  48,  49,  52,  53,  54,  55,  56,  58,\n",
       "             59,  60,  61,  62,  63,  66,  67,  69,  70,  71,  72,  73,  74,\n",
       "             77,  79,  81,  82,  83,  84,  85,  86,  87,  89,  90,  91,  93,\n",
       "             94,  95,  97,  99, 100],\n",
       "           dtype='int64')"
      ]
     },
     "execution_count": 3,
     "metadata": {},
     "output_type": "execute_result"
    }
   ],
   "source": [
    "adjacency_df.loc[adjacency_df.loc[:,range(1,n+1)].sum(axis=0)<5,:].index"
   ]
  },
  {
   "cell_type": "code",
   "execution_count": 4,
   "metadata": {},
   "outputs": [],
   "source": [
    "def convert(a):      \n",
    "    rows, cols = np.where(a.loc[range(1,n+1), range(1,n+1)] > 0)\n",
    "    edges = zip((rows+1).tolist(), (cols+1).tolist())\n",
    "    G = nx.Graph()\n",
    "    G.add_edges_from(edges)\n",
    "\n",
    "    return G"
   ]
  },
  {
   "cell_type": "code",
   "execution_count": 5,
   "metadata": {},
   "outputs": [],
   "source": [
    "#parameters\n",
    "Blocking_Capacity = (int(n/10))\n",
    "step_size=3"
   ]
  },
  {
   "cell_type": "code",
   "execution_count": 6,
   "metadata": {},
   "outputs": [],
   "source": [
    "#sets\n",
    "\n",
    "setV = range(1,n+1)\n",
    "setS = adjacency_df.loc[(adjacency_df.loc[:, \"IsInfected\"] < 1),\"IsInfected\"].index.tolist()\n",
    "setP = adjacency_df.loc[(adjacency_df.loc[:, \"IsInfected\"] > 0),\"IsInfected\"].index.tolist()\n",
    "setRisky= adjacency_df.loc[(adjacency_df.loc[:, \"IsRisky\"] > 0),\"IsRisky\"].index.tolist()\n"
   ]
  },
  {
   "cell_type": "code",
   "execution_count": 7,
   "metadata": {},
   "outputs": [],
   "source": [
    "#Preprocessing\n",
    "preprocessed_matrix = adjacency_df.copy(deep=True)\n",
    "\n"
   ]
  },
  {
   "cell_type": "code",
   "execution_count": 8,
   "metadata": {},
   "outputs": [],
   "source": [
    "#2 infected \n",
    "preprocessed_matrix.loc[setP,setP] = 0\n",
    "\n",
    "\n"
   ]
  },
  {
   "cell_type": "code",
   "execution_count": 9,
   "metadata": {},
   "outputs": [],
   "source": [
    "#Sum of all edges lower than threshold (not infected)\n",
    "index = preprocessed_matrix.loc[(preprocessed_matrix[setV].sum(axis=1)<((preprocessed_matrix.loc[:, \"Threshold\"]))) & (preprocessed_matrix.loc[:,\"IsInfected\"]<0.01)  , range(1,n+1)].index\n",
    "preprocessed_matrix.loc[index,setV] = 0\n",
    "preprocessed_matrix.loc[setV,index] = 0\n",
    "\n"
   ]
  },
  {
   "cell_type": "code",
   "execution_count": 10,
   "metadata": {},
   "outputs": [],
   "source": [
    "#1 neighbor (not infected not risky)\n",
    "index2 = preprocessed_matrix.loc[((preprocessed_matrix.loc[setV,setV]>0).sum(axis=1) == 1 & (preprocessed_matrix.loc[:,\"IsInfected\"]<0.01)) & (preprocessed_matrix.loc[:,\"IsRisky\"]<0.01), range(1,n+1)].index\n",
    "preprocessed_matrix.loc[index2,setV] = 0\n",
    "preprocessed_matrix.loc[setV,index2] = 0"
   ]
  },
  {
   "cell_type": "code",
   "execution_count": 11,
   "metadata": {},
   "outputs": [],
   "source": [
    "#Percentage assignment\n",
    "preprocessed_matrix.loc[:,setV]=preprocessed_matrix.loc[:,setV].div(preprocessed_matrix.loc[:,\"Threshold\"],axis=0)\n",
    "preprocessed_matrix[preprocessed_matrix[setV] >= 1] = 1\n"
   ]
  },
  {
   "cell_type": "code",
   "execution_count": 12,
   "metadata": {},
   "outputs": [],
   "source": [
    "nonconnected_nodes=preprocessed_matrix.loc[preprocessed_matrix.loc[:,range(1,n+1)].sum(axis=0)==0,:].index\n",
    "for i in nonconnected_nodes:\n",
    "    preprocessed_matrix.at[i,i]=1"
   ]
  },
  {
   "cell_type": "code",
   "execution_count": 13,
   "metadata": {},
   "outputs": [],
   "source": [
    "#!!!!!!!!! Edges below %50 influence are deleted !!!!!!!!!!!\n",
    "Graph3=convert(preprocessed_matrix)\n",
    "preprocessed_matrix[preprocessed_matrix[setV] <= 0.3] = 0"
   ]
  },
  {
   "cell_type": "code",
   "execution_count": 14,
   "metadata": {},
   "outputs": [],
   "source": [
    "nonconnected_nodes=preprocessed_matrix.loc[preprocessed_matrix.loc[:,range(1,n+1)].sum(axis=0)==0,:].index\n",
    "for i in nonconnected_nodes:\n",
    "    preprocessed_matrix.at[i,i]=1"
   ]
  },
  {
   "cell_type": "code",
   "execution_count": 15,
   "metadata": {},
   "outputs": [
    {
     "data": {
      "text/plain": [
       "Int64Index([], dtype='int64')"
      ]
     },
     "execution_count": 15,
     "metadata": {},
     "output_type": "execute_result"
    }
   ],
   "source": [
    "preprocessed_matrix.loc[preprocessed_matrix.loc[:,range(1,n+1)].sum(axis=0)==0,:].index"
   ]
  },
  {
   "cell_type": "code",
   "execution_count": 16,
   "metadata": {},
   "outputs": [],
   "source": [
    "Graph = convert(preprocessed_matrix)\n",
    "#Graph.nodes()"
   ]
  },
  {
   "cell_type": "code",
   "execution_count": 17,
   "metadata": {},
   "outputs": [],
   "source": [
    "found_paths=[]\n",
    "for starting_nodes in setP:\n",
    "    for ending_nodes in setRisky:\n",
    "        found_paths=found_paths+list(nx.all_simple_paths(Graph, starting_nodes, ending_nodes, cutoff=step_size))  "
   ]
  },
  {
   "cell_type": "code",
   "execution_count": 18,
   "metadata": {},
   "outputs": [],
   "source": [
    "for j in setP:\n",
    "    found_paths = [[ele for ele in sub if ele != j] for sub in found_paths]"
   ]
  },
  {
   "cell_type": "code",
   "execution_count": 19,
   "metadata": {},
   "outputs": [],
   "source": [
    "remaining_blocking_capacity=Blocking_Capacity\n",
    "found_paths_removable=found_paths\n",
    "already_blocked_nodes=[]\n",
    "found_paths_np = np.concatenate([np.array(i) for i in found_paths])"
   ]
  },
  {
   "cell_type": "code",
   "execution_count": 20,
   "metadata": {},
   "outputs": [],
   "source": [
    "nodes_on_paths, total_appearance = np.unique(found_paths_np, return_counts=True)\n",
    "\n",
    "for i in setP:\n",
    "    total_appearance=np.delete(total_appearance, np.where(nodes_on_paths[:] == i))\n",
    "    nodes_on_paths=np.delete(nodes_on_paths, np.where(nodes_on_paths[:] == i))\n",
    "#for i in setRisky:\n",
    "    #total_appearance=np.delete(total_appearance, np.where(nodes_on_paths[:] == i))\n",
    "    #nodes_on_paths=np.delete(nodes_on_paths, np.where(nodes_on_paths[:] == i))    \n"
   ]
  },
  {
   "cell_type": "code",
   "execution_count": 21,
   "metadata": {},
   "outputs": [],
   "source": [
    "#nodes_on_paths[np.argpartition(total_appearance, -Blocking_Capacity)[-Blocking_Capacity:]]\n",
    "\n"
   ]
  },
  {
   "cell_type": "code",
   "execution_count": 22,
   "metadata": {},
   "outputs": [],
   "source": [
    "already_blocked_nodes.append(nodes_on_paths[np.argmax(total_appearance)])\n",
    "remaining_blocking_capacity -= 1"
   ]
  },
  {
   "cell_type": "code",
   "execution_count": 23,
   "metadata": {},
   "outputs": [],
   "source": [
    "while (remaining_blocking_capacity>0):\n",
    "    \n",
    "    \n",
    "    found_paths_removable = list(filter(lambda x: already_blocked_nodes[-1] not in x, found_paths_removable))\n",
    "    \n",
    "    if (len(found_paths_removable)<=0):\n",
    "        remaining_risky=np.array(setRisky)\n",
    "\n",
    "        for i in already_blocked_nodes:\n",
    "            remaining_risky=np.delete(remaining_risky, np.where(remaining_risky[:] == i))\n",
    "\n",
    "        if(len(remaining_risky)>0):\n",
    "            if(len(remaining_risky)>remaining_blocking_capacity):\n",
    "                chosen=(np.random.choice(remaining_risky,size=remaining_blocking_capacity,replace=False))  \n",
    "                for items in chosen:\n",
    "                    already_blocked_nodes.append(items)\n",
    "            else:\n",
    "                 for items in remaining_risky:\n",
    "                    already_blocked_nodes.append(items)   \n",
    "        \n",
    "        break\n",
    "    \n",
    "    found_paths_removable_np = np.concatenate([np.array(i) for i in found_paths_removable])\n",
    "\n",
    "    nodes_on_paths, total_appearance = np.unique(found_paths_removable_np, return_counts=True)\n",
    "\n",
    "    #for i in setP:\n",
    "        #total_appearance=np.delete(total_appearance, np.where(nodes_on_paths[:] == i))\n",
    "        #nodes_on_paths=np.delete(nodes_on_paths, np.where(nodes_on_paths[:] == i))\n",
    "\n",
    "    already_blocked_nodes.append(nodes_on_paths[np.argmax(total_appearance)])\n",
    "    remaining_blocking_capacity -= 1\n"
   ]
  },
  {
   "cell_type": "code",
   "execution_count": 24,
   "metadata": {},
   "outputs": [],
   "source": [
    "blocked_nodes = np.zeros(n)\n",
    "#blocked_nodes[nodes_on_paths[np.argpartition(total_appearance, -Blocking_Capacity)[-Blocking_Capacity:]]-1]=1\n"
   ]
  },
  {
   "cell_type": "code",
   "execution_count": 25,
   "metadata": {},
   "outputs": [],
   "source": [
    "blocked_nodes_df=pd.DataFrame(blocked_nodes).T\n",
    "blocked_nodes_df.columns=(range(1,(n+1)))\n",
    "blocked_nodes_df\n",
    "blocked_nodes_df[already_blocked_nodes]=1"
   ]
  },
  {
   "cell_type": "code",
   "execution_count": 26,
   "metadata": {},
   "outputs": [],
   "source": [
    "initial_solution_for_tabu=blocked_nodes_df.values.tolist()[0]\n"
   ]
  },
  {
   "cell_type": "code",
   "execution_count": 27,
   "metadata": {},
   "outputs": [],
   "source": [
    "#blocked_nodes_df.to_csv('blocked_nodes_df-n'+str(n)+'-m'+str(m)+'.csv',index=False)\n"
   ]
  },
  {
   "cell_type": "code",
   "execution_count": 28,
   "metadata": {},
   "outputs": [],
   "source": [
    "def simulate_LTM(removed_nodes,Graph_for_simulation,setP):\n",
    "    G=Graph_for_simulation.copy()\n",
    "    for i in range(len(removed_nodes)):\n",
    "        if(removed_nodes[i]>0):            \n",
    "            G.remove_node(i+1)\n",
    "    converted_list=setP.copy()\n",
    "    while(1):\n",
    "        #start2=time.time()\n",
    "        converted_list1 = converted_list[:]\n",
    "        #print('step:'+str(converted_list))\n",
    "        for node in G.nodes():\n",
    "            if (node) not in converted_list: \n",
    "                total_weight = 0\n",
    "                for each in G.neighbors(node):\n",
    "                    if (each) in converted_list:\n",
    "                        total_weight = total_weight + adjacency_df.at[node,each]\n",
    "                if total_weight > adjacency_df.at[node,'Threshold']:\n",
    "                    converted_list.append(node)\n",
    "        #end2=time.time()\n",
    "        #print(end2-start2)           \n",
    "        if set(converted_list1) == set(converted_list):\n",
    "            break\n",
    "    objective_value=adjacency_df.loc[converted_list,'IsRisky'].sum()\n",
    "    return objective_value,converted_list"
   ]
  },
  {
   "cell_type": "code",
   "execution_count": 29,
   "metadata": {},
   "outputs": [
    {
     "name": "stdout",
     "output_type": "stream",
     "text": [
      "[0, 1, 2, 3, 4, 'pinar']\n",
      "[0, 1, 2, 3, 4]\n",
      "[0, 1, 2, 3, 4, 5, 6, 7, 8, 9, 10, 11, 12, 13, 14, 15, 16, 17, 18, 19, 20, 21, 22, 23, 24, 25, 26, 27, 28, 29, 30, 31, 32, 33, 34, 35, 36, 37, 38, 39, 40, 41, 42, 43, 44, 45, 46, 47, 48, 49, 50, 51, 52, 53, 54, 55, 56, 57, 58, 59, 60, 61, 62, 63, 64, 65, 66, 67, 68, 69, 70, 71, 72, 73, 74, 75, 76, 77, 78, 79, 80, 81, 82, 83, 84, 85, 86, 87, 88, 89, 90, 91, 92, 93, 94, 95, 96, 97, 98, 99]\n"
     ]
    }
   ],
   "source": [
    "ati=list(range(100))\n",
    "kale=ati[:5].copy()\n",
    "\n",
    "kale.append('pinar')\n",
    "print(kale)\n",
    "print(ati[:5])\n",
    "print(ati)"
   ]
  },
  {
   "cell_type": "markdown",
   "metadata": {},
   "source": [
    "def NeighborEvaluation(plain_converted_list,incumbent_converted_list,incumbent_objective,Exchanged,Neighbor,Graph_for_simulation,setP):\n",
    "    for i in range(len(plain_converted_list)):\n",
    "        if (plain_converted_list[i] == Exchanged[0]):       \n",
    "            \n",
    "            return simulate_LTM(Neighbor,Graph_for_simulation,setP)[0]\n",
    "        elif (plain_converted_list[i] == Exchanged[1]):\n",
    "                for j in range(len(incumbent_converted_list)):\n",
    "                    if (incumbent_converted_list[j]==plain_converted_list[i]):\n",
    "                        new_setP=incumbent_converted_list[:j].copy()\n",
    "                        print(Exchanged)\n",
    "                        print('new_setP:')\n",
    "                        print(new_setP)\n",
    "                        \n",
    "                        if(incumbent_objective < adjacency_df.loc[new_setP,'IsRisky'].sum()):\n",
    "                            return ((incumbent_objective+1)*10)\n",
    "                        return simulate_LTM(Neighbor,Graph_for_simulation,new_setP)[0]\n",
    "    return incumbent_objective"
   ]
  },
  {
   "cell_type": "code",
   "execution_count": 30,
   "metadata": {},
   "outputs": [],
   "source": [
    "def NeighborEvaluation(plain_converted_list,incumbent_converted_list,incumbent_objective,Exchanged,Neighbor,Graph_for_simulation,setP):\n",
    "    if (Exchanged[1] in plain_converted_list):\n",
    "            for j in range(len(incumbent_converted_list)):\n",
    "                if (incumbent_converted_list[j]==Exchanged[1]):\n",
    "                    new_setP=incumbent_converted_list[:j].copy()\n",
    "                    #print(Exchanged)\n",
    "                    #print('new_setP:')\n",
    "                    #print(new_setP)\n",
    "\n",
    "                    if(incumbent_objective < adjacency_df.loc[new_setP,'IsRisky'].sum()):\n",
    "                        return ((incumbent_objective+1)*10)\n",
    "                    return simulate_LTM(Neighbor,Graph_for_simulation,new_setP)[0]\n",
    "    return incumbent_objective"
   ]
  },
  {
   "cell_type": "code",
   "execution_count": 31,
   "metadata": {},
   "outputs": [
    {
     "data": {
      "text/plain": [
       "[1, 30, 36, 38, 40, 45, 64, 89, 91, 94]"
      ]
     },
     "execution_count": 31,
     "metadata": {},
     "output_type": "execute_result"
    }
   ],
   "source": [
    "setP"
   ]
  },
  {
   "cell_type": "code",
   "execution_count": 32,
   "metadata": {},
   "outputs": [],
   "source": [
    "def NeighborhoodSearch(plain_simulation,IncumbentSolution,TabuList,Graph_for_simulation,setP):\n",
    "    ZeroIndices = []\n",
    "    OneIndices = []\n",
    "    \n",
    "    incumbent_simulation=simulate_LTM(IncumbentSolution,Graph_for_simulation,setP)\n",
    "    \n",
    "    for i in range(len(IncumbentSolution)):\n",
    "        if IncumbentSolution[i] == 0:\n",
    "            ZeroIndices.append(i)\n",
    "        else:\n",
    "            OneIndices.append(i)\n",
    "    \n",
    "    AllNeighbor = []\n",
    "    AllNeighborObjVals = []\n",
    "    Moves = []\n",
    "    random_ones= random.sample(range(len(OneIndices)),int((len(OneIndices)*ones[0])))\n",
    "    random_zeros= random.sample(range(len(ZeroIndices)),int((len(ZeroIndices)*zeros[0])))\n",
    "    for i in random_ones:\n",
    "        for j in random_zeros:\n",
    "    #for i in range(len(OneIndices)):\n",
    "        #for j in range(len(ZeroIndices)):\n",
    "            if ((ZeroIndices[j]+1) not in setP):\n",
    "                #print('setP')\n",
    "                #print('____')\n",
    "                #print(setP)\n",
    "                if [OneIndices[i],ZeroIndices[j]] not in TabuList:\n",
    "                    #start=time.time() \n",
    "                    Moves.append([OneIndices[i],ZeroIndices[j]])\n",
    "                    Temp = copy(IncumbentSolution)\n",
    "                    Temp[ZeroIndices[j]] = 1\n",
    "                    Temp[OneIndices[i]] = 0\n",
    "                    Exchanged=[OneIndices[i]+1,ZeroIndices[j]+1]\n",
    "                    TempObjVal = NeighborEvaluation(plain_simulation,incumbent_simulation[1],incumbent_simulation[0],Exchanged,Temp,Graph_for_simulation,setP)                    \n",
    "                    #print(\"TempObjVal:\"+str(TempObjVal))\n",
    "                    AllNeighbor.append(Temp)\n",
    "                    AllNeighborObjVals.append(TempObjVal)\n",
    "                    #end=time.time()\n",
    "                    #print(end-start)\n",
    "    BestIndex = AllNeighborObjVals.index(min(AllNeighborObjVals))\n",
    "    BestSolution = AllNeighbor[BestIndex]\n",
    "    BestObjVal = AllNeighborObjVals[BestIndex]\n",
    "    BestMove = Moves[BestIndex]\n",
    "\n",
    "    return BestSolution, BestObjVal, BestMove"
   ]
  },
  {
   "cell_type": "code",
   "execution_count": 33,
   "metadata": {},
   "outputs": [],
   "source": [
    "def TabuSearchBinarySwap(NumberOfOnes,SpinningLimit,MaxIter,TabuTenure,Graph_for_simulation,setP,initial_solution_for_tabu,plain_simulation):\n",
    "    \n",
    "    random.seed(123)\n",
    "    \n",
    "    \n",
    "    InitialSolution = initial_solution_for_tabu.copy() \n",
    "\n",
    "    IncumbentSolution = InitialSolution\n",
    "    IncumbentObjVal = simulate_LTM(IncumbentSolution,Graph_for_simulation,setP)[0]\n",
    "    #print(\"tabuda çıktım\")\n",
    "    BestSolution = IncumbentSolution\n",
    "    BestObjVal = IncumbentObjVal\n",
    "    Trajectory = [IncumbentObjVal]\n",
    "    BestTrajectory = [BestObjVal]\n",
    "    \n",
    "    TabuList = []\n",
    "    #for i in setS:\n",
    "     #   for j in setP:\n",
    "     #       TabuList = [j,i]\n",
    "    \n",
    "    SpinningIndex = 0\n",
    "    Iteration = 0\n",
    "    while Iteration < MaxIter:\n",
    "        #start=time.time()        \n",
    "        Out = NeighborhoodSearch(plain_simulation,IncumbentSolution,TabuList,Graph_for_simulation,setP) \n",
    "        #print(Out[1])\n",
    "        #end=time.time()\n",
    "        #print(end-start)\n",
    "        BestNeighbor = Out[0]\n",
    "        BestNeighborObjVal = Out[1]\n",
    "        BestNeighborMove = Out[2]\n",
    "        \n",
    "        if BestObjVal <= IncumbentObjVal:\n",
    "            \n",
    "            IncumbentSolution = BestNeighbor\n",
    "            IncumbentObjVal = BestNeighborObjVal\n",
    "            Trajectory.append(IncumbentObjVal)\n",
    "            if IncumbentObjVal < BestObjVal:\n",
    "                BestObjVal = IncumbentObjVal\n",
    "                BestSolution = IncumbentSolution\n",
    "                SpinningIndex = 0\n",
    "            else:\n",
    "                SpinningIndex += 1\n",
    "            BestTrajectory.append(BestObjVal)\n",
    "            TabuList.append(BestNeighborMove)\n",
    "            \n",
    "        else:\n",
    "            \n",
    "            Trajectory.append(IncumbentObjVal)\n",
    "            BestTrajectory.append(BestObjVal)\n",
    "            SpinningIndex += 1\n",
    "            \n",
    "            \n",
    "        if len(TabuList) > TabuTenure:\n",
    "            TabuList.pop(0)\n",
    "            \n",
    "        if SpinningIndex > SpinningLimit:\n",
    "            \n",
    "            Iteration = MaxIter\n",
    "            \n",
    "        else:\n",
    "        \n",
    "            Iteration += 1\n",
    "    \n",
    "    return BestSolution, BestObjVal, BestTrajectory, Trajectory, TabuList\n",
    "\n"
   ]
  },
  {
   "cell_type": "code",
   "execution_count": 34,
   "metadata": {},
   "outputs": [
    {
     "name": "stdout",
     "output_type": "stream",
     "text": [
      "14.492271661758423\n"
     ]
    }
   ],
   "source": [
    "\n",
    "SpinningLimit = 5\n",
    "MaxIter = n*5\n",
    "TabuTenure = 20\n",
    "Graph2 = convert(adjacency_df)\n",
    "bosliste=np.zeros(n).tolist()\n",
    "plain_simulation=simulate_LTM(bosliste,Graph2,setP)[1]\n",
    "start1=time.time()\n",
    "Tabu_Results = TabuSearchBinarySwap(Blocking_Capacity,SpinningLimit,MaxIter,TabuTenure,Graph2,setP,initial_solution_for_tabu,plain_simulation)\n",
    "end1=time.time()\n",
    "print(end1-start1)"
   ]
  },
  {
   "cell_type": "code",
   "execution_count": 35,
   "metadata": {},
   "outputs": [
    {
     "data": {
      "text/plain": [
       "[1, 30, 36, 38, 40, 45, 64, 89, 91, 94]"
      ]
     },
     "execution_count": 35,
     "metadata": {},
     "output_type": "execute_result"
    }
   ],
   "source": [
    "setP"
   ]
  },
  {
   "cell_type": "code",
   "execution_count": 36,
   "metadata": {},
   "outputs": [
    {
     "data": {
      "text/plain": [
       "20.0"
      ]
     },
     "execution_count": 36,
     "metadata": {},
     "output_type": "execute_result"
    }
   ],
   "source": [
    "Tabu_Results[1]"
   ]
  },
  {
   "cell_type": "code",
   "execution_count": 37,
   "metadata": {},
   "outputs": [
    {
     "name": "stdout",
     "output_type": "stream",
     "text": [
      "[13, 15, 17, 21, 25, 51, 57, 70, 75, 98]\n"
     ]
    }
   ],
   "source": [
    "utku=[]\n",
    "for i in range(len(Tabu_Results[0])):\n",
    "    if Tabu_Results[0][i]==1: \n",
    "        utku.append(i+1)\n",
    "print(utku)"
   ]
  },
  {
   "cell_type": "code",
   "execution_count": 38,
   "metadata": {},
   "outputs": [
    {
     "data": {
      "text/html": [
       "<div>\n",
       "<style scoped>\n",
       "    .dataframe tbody tr th:only-of-type {\n",
       "        vertical-align: middle;\n",
       "    }\n",
       "\n",
       "    .dataframe tbody tr th {\n",
       "        vertical-align: top;\n",
       "    }\n",
       "\n",
       "    .dataframe thead th {\n",
       "        text-align: right;\n",
       "    }\n",
       "</style>\n",
       "<table border=\"1\" class=\"dataframe\">\n",
       "  <thead>\n",
       "    <tr style=\"text-align: right;\">\n",
       "      <th></th>\n",
       "      <th>1</th>\n",
       "      <th>2</th>\n",
       "      <th>3</th>\n",
       "      <th>4</th>\n",
       "      <th>5</th>\n",
       "      <th>6</th>\n",
       "      <th>7</th>\n",
       "      <th>8</th>\n",
       "      <th>9</th>\n",
       "      <th>10</th>\n",
       "      <th>...</th>\n",
       "      <th>94</th>\n",
       "      <th>95</th>\n",
       "      <th>96</th>\n",
       "      <th>97</th>\n",
       "      <th>98</th>\n",
       "      <th>99</th>\n",
       "      <th>100</th>\n",
       "      <th>Threshold</th>\n",
       "      <th>IsInfected</th>\n",
       "      <th>IsRisky</th>\n",
       "    </tr>\n",
       "  </thead>\n",
       "  <tbody>\n",
       "    <tr>\n",
       "      <th>13</th>\n",
       "      <td>0.000000</td>\n",
       "      <td>0.0</td>\n",
       "      <td>0.0</td>\n",
       "      <td>0.000000</td>\n",
       "      <td>0.0</td>\n",
       "      <td>0.000000</td>\n",
       "      <td>0.0</td>\n",
       "      <td>0.086217</td>\n",
       "      <td>0.000000</td>\n",
       "      <td>0.000000</td>\n",
       "      <td>...</td>\n",
       "      <td>0.000000</td>\n",
       "      <td>0.000000</td>\n",
       "      <td>0.000000</td>\n",
       "      <td>0.090305</td>\n",
       "      <td>0.0</td>\n",
       "      <td>0.54981</td>\n",
       "      <td>0.0</td>\n",
       "      <td>0.700528</td>\n",
       "      <td>0.0</td>\n",
       "      <td>1.0</td>\n",
       "    </tr>\n",
       "    <tr>\n",
       "      <th>15</th>\n",
       "      <td>0.000000</td>\n",
       "      <td>0.0</td>\n",
       "      <td>0.0</td>\n",
       "      <td>0.829488</td>\n",
       "      <td>0.0</td>\n",
       "      <td>0.000000</td>\n",
       "      <td>0.0</td>\n",
       "      <td>0.000000</td>\n",
       "      <td>0.000000</td>\n",
       "      <td>0.000000</td>\n",
       "      <td>...</td>\n",
       "      <td>0.000000</td>\n",
       "      <td>0.000000</td>\n",
       "      <td>0.629389</td>\n",
       "      <td>0.000000</td>\n",
       "      <td>0.0</td>\n",
       "      <td>0.00000</td>\n",
       "      <td>0.0</td>\n",
       "      <td>0.816167</td>\n",
       "      <td>0.0</td>\n",
       "      <td>1.0</td>\n",
       "    </tr>\n",
       "    <tr>\n",
       "      <th>17</th>\n",
       "      <td>0.000000</td>\n",
       "      <td>0.0</td>\n",
       "      <td>0.0</td>\n",
       "      <td>0.000000</td>\n",
       "      <td>0.0</td>\n",
       "      <td>0.000000</td>\n",
       "      <td>0.0</td>\n",
       "      <td>0.000000</td>\n",
       "      <td>0.000000</td>\n",
       "      <td>0.000000</td>\n",
       "      <td>...</td>\n",
       "      <td>0.000000</td>\n",
       "      <td>0.000000</td>\n",
       "      <td>0.000000</td>\n",
       "      <td>0.000000</td>\n",
       "      <td>0.0</td>\n",
       "      <td>0.00000</td>\n",
       "      <td>0.0</td>\n",
       "      <td>0.212758</td>\n",
       "      <td>0.0</td>\n",
       "      <td>1.0</td>\n",
       "    </tr>\n",
       "    <tr>\n",
       "      <th>21</th>\n",
       "      <td>0.000000</td>\n",
       "      <td>0.0</td>\n",
       "      <td>0.0</td>\n",
       "      <td>0.000000</td>\n",
       "      <td>0.0</td>\n",
       "      <td>0.000000</td>\n",
       "      <td>0.0</td>\n",
       "      <td>0.000000</td>\n",
       "      <td>0.629948</td>\n",
       "      <td>0.288456</td>\n",
       "      <td>...</td>\n",
       "      <td>0.316995</td>\n",
       "      <td>0.000000</td>\n",
       "      <td>0.000000</td>\n",
       "      <td>0.000000</td>\n",
       "      <td>0.0</td>\n",
       "      <td>0.00000</td>\n",
       "      <td>0.0</td>\n",
       "      <td>0.171488</td>\n",
       "      <td>0.0</td>\n",
       "      <td>1.0</td>\n",
       "    </tr>\n",
       "    <tr>\n",
       "      <th>25</th>\n",
       "      <td>0.000000</td>\n",
       "      <td>0.0</td>\n",
       "      <td>0.0</td>\n",
       "      <td>0.000000</td>\n",
       "      <td>0.0</td>\n",
       "      <td>0.000000</td>\n",
       "      <td>0.0</td>\n",
       "      <td>0.000000</td>\n",
       "      <td>0.000000</td>\n",
       "      <td>0.000000</td>\n",
       "      <td>...</td>\n",
       "      <td>0.000000</td>\n",
       "      <td>0.000000</td>\n",
       "      <td>0.000000</td>\n",
       "      <td>0.000000</td>\n",
       "      <td>0.0</td>\n",
       "      <td>0.00000</td>\n",
       "      <td>0.0</td>\n",
       "      <td>0.105618</td>\n",
       "      <td>0.0</td>\n",
       "      <td>1.0</td>\n",
       "    </tr>\n",
       "    <tr>\n",
       "      <th>51</th>\n",
       "      <td>0.574351</td>\n",
       "      <td>0.0</td>\n",
       "      <td>0.0</td>\n",
       "      <td>0.000000</td>\n",
       "      <td>0.0</td>\n",
       "      <td>0.768114</td>\n",
       "      <td>0.0</td>\n",
       "      <td>0.000000</td>\n",
       "      <td>0.000000</td>\n",
       "      <td>0.000000</td>\n",
       "      <td>...</td>\n",
       "      <td>0.000000</td>\n",
       "      <td>0.000000</td>\n",
       "      <td>0.000000</td>\n",
       "      <td>0.000000</td>\n",
       "      <td>0.0</td>\n",
       "      <td>0.00000</td>\n",
       "      <td>0.0</td>\n",
       "      <td>0.369672</td>\n",
       "      <td>0.0</td>\n",
       "      <td>1.0</td>\n",
       "    </tr>\n",
       "    <tr>\n",
       "      <th>57</th>\n",
       "      <td>0.000000</td>\n",
       "      <td>0.0</td>\n",
       "      <td>0.0</td>\n",
       "      <td>0.000000</td>\n",
       "      <td>0.0</td>\n",
       "      <td>0.000000</td>\n",
       "      <td>0.0</td>\n",
       "      <td>0.000000</td>\n",
       "      <td>0.000000</td>\n",
       "      <td>0.000000</td>\n",
       "      <td>...</td>\n",
       "      <td>0.000000</td>\n",
       "      <td>0.000000</td>\n",
       "      <td>0.000000</td>\n",
       "      <td>0.000000</td>\n",
       "      <td>0.0</td>\n",
       "      <td>0.00000</td>\n",
       "      <td>0.0</td>\n",
       "      <td>0.153567</td>\n",
       "      <td>0.0</td>\n",
       "      <td>1.0</td>\n",
       "    </tr>\n",
       "    <tr>\n",
       "      <th>70</th>\n",
       "      <td>0.000000</td>\n",
       "      <td>0.0</td>\n",
       "      <td>0.0</td>\n",
       "      <td>0.000000</td>\n",
       "      <td>0.0</td>\n",
       "      <td>0.000000</td>\n",
       "      <td>0.0</td>\n",
       "      <td>0.000000</td>\n",
       "      <td>0.000000</td>\n",
       "      <td>0.000000</td>\n",
       "      <td>...</td>\n",
       "      <td>0.000000</td>\n",
       "      <td>0.000000</td>\n",
       "      <td>0.000000</td>\n",
       "      <td>0.000000</td>\n",
       "      <td>0.0</td>\n",
       "      <td>0.00000</td>\n",
       "      <td>0.0</td>\n",
       "      <td>0.686898</td>\n",
       "      <td>0.0</td>\n",
       "      <td>1.0</td>\n",
       "    </tr>\n",
       "    <tr>\n",
       "      <th>75</th>\n",
       "      <td>0.738157</td>\n",
       "      <td>0.0</td>\n",
       "      <td>0.0</td>\n",
       "      <td>0.000000</td>\n",
       "      <td>0.0</td>\n",
       "      <td>0.000000</td>\n",
       "      <td>0.0</td>\n",
       "      <td>0.926006</td>\n",
       "      <td>0.000000</td>\n",
       "      <td>0.000000</td>\n",
       "      <td>...</td>\n",
       "      <td>0.000000</td>\n",
       "      <td>0.689425</td>\n",
       "      <td>0.000000</td>\n",
       "      <td>0.000000</td>\n",
       "      <td>0.0</td>\n",
       "      <td>0.00000</td>\n",
       "      <td>0.0</td>\n",
       "      <td>0.582814</td>\n",
       "      <td>0.0</td>\n",
       "      <td>1.0</td>\n",
       "    </tr>\n",
       "    <tr>\n",
       "      <th>98</th>\n",
       "      <td>0.000000</td>\n",
       "      <td>0.0</td>\n",
       "      <td>0.0</td>\n",
       "      <td>0.000000</td>\n",
       "      <td>0.0</td>\n",
       "      <td>0.000000</td>\n",
       "      <td>0.0</td>\n",
       "      <td>0.000000</td>\n",
       "      <td>0.597062</td>\n",
       "      <td>0.000000</td>\n",
       "      <td>...</td>\n",
       "      <td>0.000000</td>\n",
       "      <td>0.000000</td>\n",
       "      <td>0.000000</td>\n",
       "      <td>0.000000</td>\n",
       "      <td>0.0</td>\n",
       "      <td>0.00000</td>\n",
       "      <td>0.0</td>\n",
       "      <td>0.931519</td>\n",
       "      <td>0.0</td>\n",
       "      <td>1.0</td>\n",
       "    </tr>\n",
       "  </tbody>\n",
       "</table>\n",
       "<p>10 rows × 103 columns</p>\n",
       "</div>"
      ],
      "text/plain": [
       "           1    2    3         4    5         6    7         8         9  \\\n",
       "13  0.000000  0.0  0.0  0.000000  0.0  0.000000  0.0  0.086217  0.000000   \n",
       "15  0.000000  0.0  0.0  0.829488  0.0  0.000000  0.0  0.000000  0.000000   \n",
       "17  0.000000  0.0  0.0  0.000000  0.0  0.000000  0.0  0.000000  0.000000   \n",
       "21  0.000000  0.0  0.0  0.000000  0.0  0.000000  0.0  0.000000  0.629948   \n",
       "25  0.000000  0.0  0.0  0.000000  0.0  0.000000  0.0  0.000000  0.000000   \n",
       "51  0.574351  0.0  0.0  0.000000  0.0  0.768114  0.0  0.000000  0.000000   \n",
       "57  0.000000  0.0  0.0  0.000000  0.0  0.000000  0.0  0.000000  0.000000   \n",
       "70  0.000000  0.0  0.0  0.000000  0.0  0.000000  0.0  0.000000  0.000000   \n",
       "75  0.738157  0.0  0.0  0.000000  0.0  0.000000  0.0  0.926006  0.000000   \n",
       "98  0.000000  0.0  0.0  0.000000  0.0  0.000000  0.0  0.000000  0.597062   \n",
       "\n",
       "          10  ...        94        95        96        97   98       99  100  \\\n",
       "13  0.000000  ...  0.000000  0.000000  0.000000  0.090305  0.0  0.54981  0.0   \n",
       "15  0.000000  ...  0.000000  0.000000  0.629389  0.000000  0.0  0.00000  0.0   \n",
       "17  0.000000  ...  0.000000  0.000000  0.000000  0.000000  0.0  0.00000  0.0   \n",
       "21  0.288456  ...  0.316995  0.000000  0.000000  0.000000  0.0  0.00000  0.0   \n",
       "25  0.000000  ...  0.000000  0.000000  0.000000  0.000000  0.0  0.00000  0.0   \n",
       "51  0.000000  ...  0.000000  0.000000  0.000000  0.000000  0.0  0.00000  0.0   \n",
       "57  0.000000  ...  0.000000  0.000000  0.000000  0.000000  0.0  0.00000  0.0   \n",
       "70  0.000000  ...  0.000000  0.000000  0.000000  0.000000  0.0  0.00000  0.0   \n",
       "75  0.000000  ...  0.000000  0.689425  0.000000  0.000000  0.0  0.00000  0.0   \n",
       "98  0.000000  ...  0.000000  0.000000  0.000000  0.000000  0.0  0.00000  0.0   \n",
       "\n",
       "    Threshold  IsInfected  IsRisky  \n",
       "13   0.700528         0.0      1.0  \n",
       "15   0.816167         0.0      1.0  \n",
       "17   0.212758         0.0      1.0  \n",
       "21   0.171488         0.0      1.0  \n",
       "25   0.105618         0.0      1.0  \n",
       "51   0.369672         0.0      1.0  \n",
       "57   0.153567         0.0      1.0  \n",
       "70   0.686898         0.0      1.0  \n",
       "75   0.582814         0.0      1.0  \n",
       "98   0.931519         0.0      1.0  \n",
       "\n",
       "[10 rows x 103 columns]"
      ]
     },
     "execution_count": 38,
     "metadata": {},
     "output_type": "execute_result"
    }
   ],
   "source": [
    "adjacency_df.loc[utku,:]"
   ]
  },
  {
   "cell_type": "code",
   "execution_count": 39,
   "metadata": {},
   "outputs": [
    {
     "data": {
      "text/plain": [
       "21.0"
      ]
     },
     "execution_count": 39,
     "metadata": {},
     "output_type": "execute_result"
    }
   ],
   "source": [
    "simulate_LTM(initial_solution_for_tabu,Graph,setP)[0]"
   ]
  },
  {
   "cell_type": "code",
   "execution_count": 40,
   "metadata": {},
   "outputs": [
    {
     "data": {
      "text/plain": [
       "20.0"
      ]
     },
     "execution_count": 40,
     "metadata": {},
     "output_type": "execute_result"
    }
   ],
   "source": [
    "simulate_LTM(Tabu_Results[0],Graph,setP)[0]"
   ]
  }
 ],
 "metadata": {
  "colab": {
   "collapsed_sections": [],
   "name": "Graph_Generation_for_Math_Model.ipynb",
   "provenance": []
  },
  "kernelspec": {
   "display_name": "Python 3",
   "language": "python",
   "name": "python3"
  },
  "language_info": {
   "codemirror_mode": {
    "name": "ipython",
    "version": 3
   },
   "file_extension": ".py",
   "mimetype": "text/x-python",
   "name": "python",
   "nbconvert_exporter": "python",
   "pygments_lexer": "ipython3",
   "version": "3.7.6"
  }
 },
 "nbformat": 4,
 "nbformat_minor": 1
}
