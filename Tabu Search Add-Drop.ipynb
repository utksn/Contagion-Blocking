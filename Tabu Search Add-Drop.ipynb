{
 "cells": [
  {
   "cell_type": "markdown",
   "metadata": {
    "id": "a5A4VF3loLuO"
   },
   "source": [
    "TABU- HEURISTIC 1"
   ]
  },
  {
   "cell_type": "code",
   "execution_count": 1,
   "metadata": {
    "colab": {
     "base_uri": "https://localhost:8080/"
    },
    "id": "t3f1efMPWIyu",
    "outputId": "90206e0d-e0a9-4432-abd0-bf952ce96d02"
   },
   "outputs": [],
   "source": [
    "import numpy as np\n",
    "import random\n",
    "import pandas as pd\n",
    "import copy\n",
    "from collections import defaultdict\n",
    "from networkx import nx\n",
    "from copy import copy\n",
    "import time\n",
    "import pickle\n",
    "import itertools\n"
   ]
  },
  {
   "cell_type": "code",
   "execution_count": 2,
   "metadata": {},
   "outputs": [],
   "source": [
    "adjacency_df=pd.DataFrame(pd.read_csv(\"C:/Users/Lenovo/Desktop/adjacency_df-n100-m400.csv\"))\n",
    "\n",
    "n = len(adjacency_df)\n",
    "\n",
    "adjacency_df.columns=(range(1,(n+4)))\n",
    "adjacency_df=adjacency_df.rename(columns={n+1:'Threshold',n+2:'IsInfected', n+3:'IsRisky' },errors='raise')\n",
    "\n",
    "adjacency_df.index=(range(1,(n+1)))\n",
    "\n",
    "m=((adjacency_df.loc[:,range(1,n+1)]>0).sum().sum())/2\n",
    "\n",
    "\n",
    "zeros=[1,0.3,0.1]\n",
    "ones=[1,0.5,0.3]"
   ]
  },
  {
   "cell_type": "code",
   "execution_count": 3,
   "metadata": {},
   "outputs": [],
   "source": [
    "def convert(a):      \n",
    "    rows, cols = np.where(a.loc[range(1,n+1), range(1,n+1)] > 0)\n",
    "    edges = zip((rows+1).tolist(), (cols+1).tolist())\n",
    "    G = nx.Graph()\n",
    "    G.add_edges_from(edges)\n",
    "\n",
    "    return G"
   ]
  },
  {
   "cell_type": "code",
   "execution_count": 4,
   "metadata": {},
   "outputs": [],
   "source": [
    "#parameters\n",
    "Blocking_Capacity = (int(n/10))*2\n",
    "step_size=3"
   ]
  },
  {
   "cell_type": "code",
   "execution_count": 5,
   "metadata": {},
   "outputs": [],
   "source": [
    "#sets\n",
    "\n",
    "setV = range(1,n+1)\n",
    "setS = adjacency_df.loc[(adjacency_df.loc[:, \"IsInfected\"] < 1),\"IsInfected\"].index.tolist()\n",
    "setP = adjacency_df.loc[(adjacency_df.loc[:, \"IsInfected\"] > 0),\"IsInfected\"].index.tolist()\n",
    "setRisky= adjacency_df.loc[(adjacency_df.loc[:, \"IsRisky\"] > 0),\"IsRisky\"].index.tolist()\n"
   ]
  },
  {
   "cell_type": "code",
   "execution_count": 6,
   "metadata": {},
   "outputs": [],
   "source": [
    "#Preprocessing\n",
    "preprocessed_matrix = adjacency_df.copy(deep=True)\n",
    "\n"
   ]
  },
  {
   "cell_type": "code",
   "execution_count": 7,
   "metadata": {},
   "outputs": [],
   "source": [
    "#2 infected \n",
    "preprocessed_matrix.loc[setP,setP] = 0\n",
    "\n",
    "\n"
   ]
  },
  {
   "cell_type": "code",
   "execution_count": 8,
   "metadata": {},
   "outputs": [],
   "source": [
    "#Sum of all edges lower than threshold (not infected)\n",
    "index = preprocessed_matrix.loc[(preprocessed_matrix[setV].sum(axis=1)<((preprocessed_matrix.loc[:, \"Threshold\"]))) & (preprocessed_matrix.loc[:,\"IsInfected\"]<0.01)  , range(1,n+1)].index\n",
    "preprocessed_matrix.loc[index,setV] = 0\n",
    "preprocessed_matrix.loc[setV,index] = 0\n",
    "\n"
   ]
  },
  {
   "cell_type": "code",
   "execution_count": 9,
   "metadata": {},
   "outputs": [],
   "source": [
    "#1 neighbor (not infected not risky)\n",
    "index2 = preprocessed_matrix.loc[((preprocessed_matrix.loc[setV,setV]>0).sum(axis=1) == 1 & (preprocessed_matrix.loc[:,\"IsInfected\"]<0.01)) & (preprocessed_matrix.loc[:,\"IsRisky\"]<0.01), range(1,n+1)].index\n",
    "preprocessed_matrix.loc[index2,setV] = 0\n",
    "preprocessed_matrix.loc[setV,index2] = 0"
   ]
  },
  {
   "cell_type": "code",
   "execution_count": 10,
   "metadata": {},
   "outputs": [],
   "source": [
    "#Percentage assignment\n",
    "preprocessed_matrix.loc[:,setV]=preprocessed_matrix.loc[:,setV].div(preprocessed_matrix.loc[:,\"Threshold\"],axis=0)\n",
    "preprocessed_matrix[preprocessed_matrix[setV] >= 1] = 1\n"
   ]
  },
  {
   "cell_type": "markdown",
   "metadata": {},
   "source": [
    "nonconnected_nodes=preprocessed_matrix.loc[preprocessed_matrix.loc[:,range(1,n+1)].sum(axis=0)==0,:].index\n",
    "for i in nonconnected_nodes:\n",
    "    preprocessed_matrix.at[i,i]=1"
   ]
  },
  {
   "cell_type": "code",
   "execution_count": 11,
   "metadata": {},
   "outputs": [],
   "source": [
    "#!!!!!!!!! Edges below %30 influence are deleted !!!!!!!!!!!\n",
    "preprocessed_matrix[preprocessed_matrix[setV] <= 0.3] = 0"
   ]
  },
  {
   "cell_type": "markdown",
   "metadata": {},
   "source": [
    "nonconnected_nodes=preprocessed_matrix.loc[preprocessed_matrix.loc[:,range(1,n+1)].sum(axis=0)==0,:].index\n",
    "for i in nonconnected_nodes:\n",
    "    preprocessed_matrix.at[i,i]=1"
   ]
  },
  {
   "cell_type": "code",
   "execution_count": 12,
   "metadata": {},
   "outputs": [],
   "source": [
    "Graph = convert(preprocessed_matrix)\n",
    "#Graph.nodes()"
   ]
  },
  {
   "cell_type": "code",
   "execution_count": 13,
   "metadata": {},
   "outputs": [],
   "source": [
    "infected_neighbors=[]\n",
    "for node in Graph.nodes():\n",
    "    if (node) in setP: \n",
    "        for neighbors in Graph.neighbors(node):\n",
    "            infected_neighbors.append(neighbors)"
   ]
  },
  {
   "cell_type": "code",
   "execution_count": 14,
   "metadata": {},
   "outputs": [],
   "source": [
    "infected_neighbors=np.sort(infected_neighbors).tolist()\n",
    "infected_neighbors_unique = []\n",
    "\n",
    "prob_of_selection = []\n",
    "j=-1\n",
    "for i in range(len(infected_neighbors)):\n",
    "    if infected_neighbors[i] not in infected_neighbors_unique:\n",
    "        infected_neighbors_unique.append(infected_neighbors[i])\n",
    "        prob_of_selection.append(1)\n",
    "        j+=1\n",
    "    else:\n",
    "        prob_of_selection[j]+=1\n",
    "        \n",
    "prob_of_selection=np.array(prob_of_selection)/sum(prob_of_selection)\n",
    "       "
   ]
  },
  {
   "cell_type": "code",
   "execution_count": 15,
   "metadata": {},
   "outputs": [],
   "source": [
    "\n",
    "if(Blocking_Capacity<=len(infected_neighbors_unique)):\n",
    "    initial_solution_neighbor = np.random.choice(infected_neighbors_unique,Blocking_Capacity,replace=False,p=prob_of_selection)\n",
    "else:\n",
    "    riskies_potential = []\n",
    "    for riskies in setRisky:\n",
    "        if(riskies not in infected_neighbors_unique):\n",
    "            riskies_potential.append(riskies)\n",
    "    risky_in_initial = (np.random.choice(riskies_potential,(Blocking_Capacity-len(infected_neighbors_unique)),replace=False)).tolist()\n",
    "    initial_solution_neighbor = np.array((infected_neighbors_unique + risky_in_initial))\n",
    "            \n",
    "            "
   ]
  },
  {
   "cell_type": "code",
   "execution_count": 16,
   "metadata": {},
   "outputs": [],
   "source": [
    "blocked_nodes = np.zeros(n)\n",
    "#blocked_nodes[nodes_on_paths[np.argpartition(total_appearance, -Blocking_Capacity)[-Blocking_Capacity:]]-1]=1\n"
   ]
  },
  {
   "cell_type": "code",
   "execution_count": 17,
   "metadata": {},
   "outputs": [],
   "source": [
    "blocked_nodes_df=pd.DataFrame(blocked_nodes).T\n",
    "blocked_nodes_df.columns=(range(1,(n+1)))\n",
    "blocked_nodes_df\n",
    "blocked_nodes_df[initial_solution_neighbor]=1"
   ]
  },
  {
   "cell_type": "code",
   "execution_count": 18,
   "metadata": {},
   "outputs": [],
   "source": [
    "initial_solution_for_tabu=blocked_nodes_df.values.tolist()[0]\n"
   ]
  },
  {
   "cell_type": "code",
   "execution_count": 19,
   "metadata": {},
   "outputs": [],
   "source": [
    "#blocked_nodes_df.to_csv('blocked_nodes_df-n'+str(n)+'-m'+str(m)+'.csv',index=False)\n"
   ]
  },
  {
   "cell_type": "code",
   "execution_count": 20,
   "metadata": {},
   "outputs": [],
   "source": [
    "def simulate_LTM(removed_nodes,Graph_for_simulation,setP):\n",
    "    G=Graph_for_simulation.copy()\n",
    "    #silinen=[]\n",
    "    for i in range(len(removed_nodes)):\n",
    "        if(removed_nodes[i]>0):            \n",
    "            G.remove_node(i+1)\n",
    "            #silinen.append(i+1)\n",
    "    converted_list=setP.copy()\n",
    "    #print('Blocked:'+str(silinen)) \n",
    "    \n",
    "    while(1):\n",
    "        #start2=time.time()\n",
    "        converted_list1 = converted_list[:]\n",
    "        #print('step:'+str(converted_list))\n",
    "        for node in G.nodes():\n",
    "            if (node) not in converted_list: \n",
    "                total_weight = 0\n",
    "                for each in G.neighbors(node):\n",
    "                    if (each) in converted_list:\n",
    "                        total_weight = total_weight + adjacency_df.at[node,each]\n",
    "                if total_weight > adjacency_df.at[node,'Threshold']:\n",
    "                    converted_list.append(node)\n",
    "        #end2=time.time()\n",
    "        #print(end2-start2)           \n",
    "        if set(converted_list1) == set(converted_list):\n",
    "            break\n",
    "    objective_value=adjacency_df.loc[converted_list,'IsRisky'].sum()\n",
    "    #print('FINAL:'+str(converted_list))\n",
    "    return objective_value "
   ]
  },
  {
   "cell_type": "code",
   "execution_count": 21,
   "metadata": {},
   "outputs": [],
   "source": [
    "def NeighborEvaluation(Neighbor,Graph_for_simulation,setP):\n",
    "    \n",
    "    ObjVal = simulate_LTM(Neighbor,Graph_for_simulation,setP)\n",
    "    #ObjVal = (i * Neighbor[i])\n",
    "    \n",
    "    return ObjVal"
   ]
  },
  {
   "cell_type": "code",
   "execution_count": 22,
   "metadata": {},
   "outputs": [],
   "source": [
    "def NeighborhoodSearchAdd(AddDropLimit,IncumbentSolution,TabuAddList,Graph_for_simulation,setP):\n",
    "\n",
    "    ZeroIndices = []\n",
    "    OneIndices = []\n",
    "    zeros_for_comb=[]\n",
    "    \n",
    "    for i in range(len(IncumbentSolution)):\n",
    "        if IncumbentSolution[i] == 0:\n",
    "            ZeroIndices.append(i)\n",
    "            if (i+1 not in setP):\n",
    "                if (i not in TabuAddList):\n",
    "                    zeros_for_comb.append(i)\n",
    "        else:\n",
    "            OneIndices.append(i)\n",
    "    \n",
    "    AllNeighbor = []\n",
    "    AllNeighborObjVals = []\n",
    "    Moves = []\n",
    "\n",
    "    #random_zeros= random.sample(range(len(zeros_for_comb)),int((len(zeros_for_comb)*zeros[0])))\n",
    "\n",
    "    for subset in itertools.combinations(zeros_for_comb, AddDropLimit):\n",
    "        Moves.append(subset)\n",
    "        Temp = copy(IncumbentSolution)\n",
    "        for subset_element in subset:\n",
    "            Temp[subset_element] = 1  \n",
    "        #print('Exchanged:'+str(OneIndices[i]+1)+','+str(ZeroIndices[j]+1))\n",
    "        TempObjVal = NeighborEvaluation(Temp,Graph_for_simulation,setP)+n\n",
    "        #print('AddObjective: '+str(TempObjVal))\n",
    "        #print(\"neighborda çıktım\")\n",
    "        AllNeighbor.append(Temp)\n",
    "        AllNeighborObjVals.append(TempObjVal)\n",
    "        #end=time.time()\n",
    "        #print(end-start)\n",
    "    BestIndex = AllNeighborObjVals.index(min(AllNeighborObjVals))\n",
    "    BestSolution = AllNeighbor[BestIndex]\n",
    "    BestObjVal = AllNeighborObjVals[BestIndex]\n",
    "    BestMove = Moves[BestIndex]\n",
    "    #print('AddBEST: '+str(BestObjVal))\n",
    "    #print('AddBESTSOLNLEN: '+str(sum(BestSolution)))\n",
    "    return BestSolution, BestObjVal, BestMove"
   ]
  },
  {
   "cell_type": "code",
   "execution_count": 23,
   "metadata": {},
   "outputs": [],
   "source": [
    "def NeighborhoodSearchDrop(AddDropLimit,IncumbentSolution,TabuDropList,Graph_for_simulation,setP):\n",
    "\n",
    "    ZeroIndices = []\n",
    "    OneIndices = []\n",
    "    ones_for_comb=[]\n",
    "    \n",
    "    for i in range(len(IncumbentSolution)):\n",
    "        if IncumbentSolution[i] == 0:\n",
    "            ZeroIndices.append(i)\n",
    "        else:\n",
    "            OneIndices.append(i)\n",
    "            if i not in TabuDropList:\n",
    "                ones_for_comb.append(i)\n",
    "    #print(len(TabuDropList))\n",
    "    #print(sum(IncumbentSolution))\n",
    "    AllNeighbor = []\n",
    "    AllNeighborObjVals = []\n",
    "    Moves = []\n",
    "\n",
    "    #random_ones= random.sample(range(len(ones_for_comb)),int((len(ones_for_comb)*ones[0])))\n",
    "\n",
    "    for subset in itertools.combinations(ones_for_comb, AddDropLimit):\n",
    "        Moves.append(subset)\n",
    "        Temp = copy(IncumbentSolution)\n",
    "        for subset_element in subset:\n",
    "            Temp[subset_element] = 0  \n",
    "        #print('Exchanged:'+str(OneIndices[i]+1)+','+str(ZeroIndices[j]+1))\n",
    "        TempObjVal = NeighborEvaluation(Temp,Graph_for_simulation,setP)\n",
    "        #print('DropObjective: '+str(TempObjVal))\n",
    "        #print(\"neighborda çıktım\")\n",
    "        AllNeighbor.append(Temp)\n",
    "        AllNeighborObjVals.append(TempObjVal)\n",
    "        #end=time.time()\n",
    "        #print(end-start)\n",
    "    BestIndex = AllNeighborObjVals.index(min(AllNeighborObjVals))\n",
    "    BestSolution = AllNeighbor[BestIndex]\n",
    "    BestObjVal = AllNeighborObjVals[BestIndex]\n",
    "    BestMove = Moves[BestIndex]\n",
    "    #print('DropBEST: '+str(BestObjVal))\n",
    "    #print('DropBESTSOLNLEN: '+str(sum(BestSolution)))\n",
    "    return BestSolution, BestObjVal, BestMove"
   ]
  },
  {
   "cell_type": "code",
   "execution_count": 24,
   "metadata": {},
   "outputs": [],
   "source": [
    "def TabuSearchAddDrop(AddDropLimit,NumberOfOnes,SpinningLimit,MaxIter,TabuTenure,Graph_for_simulation,setP,initial_solution_for_tabu):\n",
    "    \n",
    "    random.seed(123)\n",
    "    \n",
    "    InitialSolution = initial_solution_for_tabu.copy() \n",
    "\n",
    "    IncumbentSolution = InitialSolution\n",
    "    IncumbentObjVal = NeighborEvaluation(IncumbentSolution,Graph_for_simulation,setP)\n",
    "    #print(\"tabuda çıktım\")\n",
    "    BestSolution = IncumbentSolution\n",
    "    BestObjVal = IncumbentObjVal\n",
    "    Trajectory = [IncumbentObjVal]\n",
    "    BestTrajectory = [BestObjVal]\n",
    "    \n",
    "    TabuAddList=[]\n",
    "    TabuDropList=[]\n",
    "    #for i in setS:\n",
    "     #   for j in setP:\n",
    "     #       TabuList = [j,i]\n",
    "    \n",
    "    SpinningIndex = 0\n",
    "    Iteration = 0\n",
    "    start_CPU=time.time()\n",
    "    CPU_time=0\n",
    "    \n",
    "    while ((Iteration < MaxIter) and CPU_time<=7200):\n",
    "        #start=time.time()\n",
    "        \n",
    "        #START WITH ADD!\n",
    "        if (Iteration%2):#DROP OPERATOR\n",
    "            #print('__________________')\n",
    "            #print('DROPA GİRDİM'+str(Iteration))\n",
    "            #print('__________________')\n",
    "            Out = NeighborhoodSearchDrop(AddDropLimit,IncumbentSolution,TabuDropList,Graph_for_simulation,setP)\n",
    "            #end=time.time()\n",
    "            #print(end-start)\n",
    "            BestNeighbor = Out[0]\n",
    "            BestNeighborObjVal = Out[1]\n",
    "            BestNeighborMove = Out[2]\n",
    "            \n",
    "            if BestObjVal <= IncumbentObjVal:\n",
    "\n",
    "                IncumbentSolution = BestNeighbor\n",
    "                IncumbentObjVal = BestNeighborObjVal\n",
    "                Trajectory.append(IncumbentObjVal)\n",
    "                if IncumbentObjVal < BestObjVal:\n",
    "                    BestObjVal = IncumbentObjVal\n",
    "                    BestSolution = IncumbentSolution\n",
    "                    SpinningIndex = 0\n",
    "                else:\n",
    "                    SpinningIndex += 1\n",
    "                BestTrajectory.append(BestObjVal)\n",
    "                for size in BestNeighborMove:\n",
    "                    TabuAddList.append(size)\n",
    "\n",
    "            else:                \n",
    "                BestTrajectory.append(BestObjVal)\n",
    "                SpinningIndex += 1\n",
    "            \n",
    "            if len(TabuAddList) > TabuTenure:\n",
    "                for add in range(AddDropLimit): \n",
    "                    TabuAddList.pop(0)\n",
    "                \n",
    "            \n",
    "        else:#ADD OPERATOR\n",
    "            #print('__________________')\n",
    "            #print('ADDE GİRDİM'+str(Iteration))\n",
    "            #print('__________________')\n",
    "            Out = NeighborhoodSearchAdd(AddDropLimit,IncumbentSolution,TabuAddList,Graph_for_simulation,setP)\n",
    "            #end=time.time()\n",
    "            #print(end-start)\n",
    "            BestNeighbor = Out[0]\n",
    "            BestNeighborObjVal = Out[1]\n",
    "            BestNeighborMove = Out[2]\n",
    "            \n",
    "            IncumbentSolution = BestNeighbor\n",
    "            IncumbentObjVal = BestNeighborObjVal\n",
    "            \n",
    "            \n",
    "            Trajectory.append(IncumbentObjVal)\n",
    "            BestTrajectory.append(BestObjVal)\n",
    "            for size in BestNeighborMove:\n",
    "                TabuDropList.append(size)\n",
    "            \n",
    "            if len(TabuDropList) > TabuTenure:\n",
    "                for add in range(AddDropLimit): \n",
    "                    TabuDropList.pop(0)\n",
    "            \n",
    "        if SpinningIndex > SpinningLimit:\n",
    "            \n",
    "            Iteration = MaxIter\n",
    "            \n",
    "        else:\n",
    "        \n",
    "            Iteration += 1\n",
    "        end_CPU=time.time()\n",
    "        CPU_time=end_CPU-start_CPU\n",
    "    return BestSolution, BestObjVal, BestTrajectory, Trajectory\n",
    "\n"
   ]
  },
  {
   "cell_type": "code",
   "execution_count": 25,
   "metadata": {},
   "outputs": [
    {
     "name": "stdout",
     "output_type": "stream",
     "text": [
      "166.78810095787048\n"
     ]
    }
   ],
   "source": [
    "\n",
    "SpinningLimit = 20\n",
    "MaxIter = n*5\n",
    "TabuTenure = 12\n",
    "Graph2 = convert(adjacency_df)\n",
    "start1=time.time()\n",
    "Tabu_Results = TabuSearchAddDrop(2,Blocking_Capacity,SpinningLimit,MaxIter,TabuTenure,Graph2,setP,initial_solution_for_tabu)\n",
    "end1=time.time()\n",
    "print(end1-start1)"
   ]
  },
  {
   "cell_type": "code",
   "execution_count": 26,
   "metadata": {},
   "outputs": [
    {
     "name": "stdout",
     "output_type": "stream",
     "text": [
      "TABU ADD-DROP OBJECTIVE VALUE: 10.0\n"
     ]
    }
   ],
   "source": [
    "print('TABU ADD-DROP OBJECTIVE VALUE: '+str(Tabu_Results[1]))"
   ]
  },
  {
   "cell_type": "code",
   "execution_count": 27,
   "metadata": {},
   "outputs": [
    {
     "name": "stdout",
     "output_type": "stream",
     "text": [
      "TABU ADD-DROP TIME: 166.78810095787048\n"
     ]
    }
   ],
   "source": [
    "print('TABU ADD-DROP TIME: '+str(end1-start1))"
   ]
  },
  {
   "cell_type": "code",
   "execution_count": 28,
   "metadata": {},
   "outputs": [
    {
     "name": "stdout",
     "output_type": "stream",
     "text": [
      "NEW_CONSTRUCTION OBJECTIVE VALUE: 23.0\n"
     ]
    }
   ],
   "source": [
    "print('NEW_CONSTRUCTION OBJECTIVE VALUE: '+str(simulate_LTM(initial_solution_for_tabu,Graph,setP)))"
   ]
  },
  {
   "cell_type": "code",
   "execution_count": null,
   "metadata": {},
   "outputs": [],
   "source": []
  }
 ],
 "metadata": {
  "colab": {
   "collapsed_sections": [],
   "name": "Graph_Generation_for_Math_Model.ipynb",
   "provenance": []
  },
  "kernelspec": {
   "display_name": "Python 3",
   "language": "python",
   "name": "python3"
  },
  "language_info": {
   "codemirror_mode": {
    "name": "ipython",
    "version": 3
   },
   "file_extension": ".py",
   "mimetype": "text/x-python",
   "name": "python",
   "nbconvert_exporter": "python",
   "pygments_lexer": "ipython3",
   "version": "3.7.6"
  }
 },
 "nbformat": 4,
 "nbformat_minor": 1
}
