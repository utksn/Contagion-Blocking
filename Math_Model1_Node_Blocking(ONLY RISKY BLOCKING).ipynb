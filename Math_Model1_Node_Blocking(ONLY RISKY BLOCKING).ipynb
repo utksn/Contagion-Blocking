{
 "cells": [
  {
   "cell_type": "markdown",
   "metadata": {
    "id": "a5A4VF3loLuO"
   },
   "source": [
    "CONTAGION \n",
    "NODE BLOCKING\n",
    "ERDOS-RENYI GRAPH\n"
   ]
  },
  {
   "cell_type": "code",
   "execution_count": 1,
   "metadata": {
    "colab": {
     "base_uri": "https://localhost:8080/"
    },
    "id": "t3f1efMPWIyu",
    "outputId": "90206e0d-e0a9-4432-abd0-bf952ce96d02"
   },
   "outputs": [
    {
     "name": "stdout",
     "output_type": "stream",
     "text": [
      "Academic license - for non-commercial use only - expires 2021-05-20\n",
      "Using license file C:\\Users\\Lenovo\\gurobi.lic\n",
      "Warning: constraint name \"Bloklanan birey infected olamaz\" has a space\n",
      "Warning: Q constraint name \"Multi constraint\" has a space\n",
      "Gurobi Optimizer version 9.1.1 build v9.1.1rc0 (win64)\n",
      "Thread count: 6 physical cores, 12 logical processors, using up to 12 threads\n",
      "Optimize a model with 841 rows, 900 columns and 1740 nonzeros\n",
      "Model fingerprint: 0x6d602fd5\n",
      "Model has 840 quadratic constraints\n",
      "Variable types: 0 continuous, 900 integer (900 binary)\n",
      "Coefficient statistics:\n",
      "  Matrix range     [1e+00, 1e+00]\n",
      "  QMatrix range    [1e-03, 1e+00]\n",
      "  QLMatrix range   [1e-03, 1e+00]\n",
      "  Objective range  [1e+00, 1e+00]\n",
      "  Bounds range     [1e+00, 1e+00]\n",
      "  RHS range        [1e+00, 3e+01]\n",
      "  QRHS range       [2e-03, 1e+00]\n",
      "Presolve removed 841 rows and 900 columns\n",
      "Presolve time: 0.01s\n",
      "Presolve: All rows and columns removed\n",
      "\n",
      "Explored 0 nodes (0 simplex iterations) in 0.02 seconds\n",
      "Thread count was 1 (of 12 available processors)\n",
      "\n",
      "Solution count 1: 55 \n",
      "\n",
      "Optimal solution found (tolerance 1.00e-04)\n",
      "Best objective 5.500000000000e+01, best bound 5.500000000000e+01, gap 0.0000%\n"
     ]
    }
   ],
   "source": [
    "import numpy as np\n",
    "import random\n",
    "import pandas as pd\n",
    "\n",
    "#!pip install pyomo\n",
    "#import pyomo.environ as pyEnv\n",
    "#!pip install -i https://pypi.gurobi.com gurobipy\n",
    "import gurobipy as gp\n",
    "from gurobipy import GRB\n",
    "import copy\n",
    "import time\n",
    "\n",
    "adjacency_df=pd.DataFrame(pd.read_csv(\"C:/Users/Lenovo/Desktop/adjacency_df-n300-m1200.csv\"))\n",
    "\n",
    "n = len(adjacency_df)\n",
    "\n",
    "adjacency_df.columns=(range(1,(n+4)))\n",
    "adjacency_df=adjacency_df.rename(columns={n+1:'Threshold',n+2:'IsInfected', n+3:'IsRisky' },errors='raise')\n",
    "\n",
    "adjacency_df.index=(range(1,(n+1)))\n",
    "\n",
    "m=((adjacency_df.loc[:,range(1,n+1)]>0).sum().sum())/2\n",
    "\n",
    "#sets\n",
    "setV = range(1,n+1)\n",
    "setS = adjacency_df.loc[(adjacency_df.loc[:, \"IsInfected\"] < 1),\"IsInfected\"].index.tolist()\n",
    "setP = adjacency_df.loc[(adjacency_df.loc[:, \"IsInfected\"] > 0),\"IsInfected\"].index.tolist()\n",
    "setN = adjacency_df.loc[(adjacency_df.loc[:, \"IsRisky\"] < 1),\"IsRisky\"].index.tolist()\n",
    "\n",
    "\n",
    "#parameters\n",
    "wij = [[adjacency_df.loc[i,j] for i in setV] for j in setV  ]\n",
    "ti = [adjacency_df.loc[i,\"Threshold\"] for i in setV]\n",
    "Xi = [adjacency_df.loc[i,\"IsRisky\"] for i in setV]\n",
    "Blocking_Capacity = int((n) / 10) \n",
    "#Blocking_Capacity = int((n) / 10)*2\n",
    "\n",
    "start=time.time()\n",
    "#model\n",
    "Math_Model = gp.Model(\"Math_Model\")\n",
    "\n",
    "#variables\n",
    "Yi = Math_Model.addVars(setV,vtype=GRB.BINARY,name=\"Yi\") #Bunun yerine SetS'de tanımlı olabilir!!!!\n",
    "Ii = Math_Model.addVars(setV,vtype=GRB.BINARY, obj=Xi, name=\"Ii\")\n",
    "Multi= Math_Model.addVars(setV,vtype=GRB.BINARY,name=\"Multi\") #(1-Y[i])*(1-I[i])\n",
    "\n",
    "#constraints\n",
    "# Y[i] +I[i] <= 1   (1)\n",
    "for i in setV:\n",
    "    Math_Model.addConstr((Yi[i]+ Ii[i]), sense=GRB.LESS_EQUAL, rhs=1, name=\"Bloklanan birey infected olamaz\".format(i))\n",
    "\n",
    "    # Mult[i] =  (1-Y[i])*(1-I[i])   (1)\n",
    "for i in setV:\n",
    "    Math_Model.addConstr(Multi[i], sense=GRB.EQUAL, rhs=(1-Yi[i])*(1-Ii[i]), name=\"Multi constraint\".format(i))#constraints\n",
    "# Y[i] +I[i] <= 1   (1)\n",
    "for i in setV:\n",
    "    Math_Model.addConstr((Yi[i]+ Ii[i]), sense=GRB.LESS_EQUAL, rhs=1, name=\"Bloklanan birey infected olamaz\".format(i))\n",
    "\n",
    "#(Σ(over j in V  w[i][j]*I[j]))*(1-Y[i])*(1-I[i]) <=  t[i]    for all i in S\n",
    "for i in setS:\n",
    "    Math_Model.addConstr(lhs=gp.quicksum(wij[i-1][j-1]*Ii[j] for j in setV)*Multi[i] , sense=GRB.LESS_EQUAL, rhs=ti[i-1],name=\"Birinci:Tresholdu geçen birey hasta olur.\".format(i))\n",
    "#(Σ(over j in V  w[i][j]*I[j]))*(1-Y[i]) >  t[i]*I[i]         for all i in S \n",
    "for i in setS:\n",
    "    Math_Model.addConstr(lhs=gp.quicksum(wij[i-1][j-1]*Ii[j] for j in setV)*(1-Yi[i]) , sense=GRB.GREATER_EQUAL, rhs=ti[i-1]*Ii[i],name=\"İkinci:Tresholdu geçen birey hasta olur.\".format(i))\n",
    "\n",
    "#Σ(over i Y[i])<= c \n",
    "Math_Model.addConstr(lhs=gp.quicksum(Yi[i] for i in setV) , sense=GRB.LESS_EQUAL, rhs=Blocking_Capacity,name=\"Bloklama kapasitesinden fazla bloklama yapılamaz.\".format(i))\n",
    "\n",
    "#I[i]=1       for all i in V-S(P) \n",
    "for i in setP:\n",
    "    Math_Model.addConstr(Ii[i], sense=GRB.EQUAL, rhs=1, name=\"Başlangıçta enfekte olanların I[i] parametresi bire eşittir.\".format(i))\n",
    "\n",
    "for i in setN:\n",
    "    Math_Model.addConstr(Yi[i], sense=GRB.EQUAL, rhs=0, name=\"Riskli olmayan bireyler bloklanamaz!\".format(i))\n",
    "    \n",
    "    \n",
    "Math_Model.write(\"out.lp\")\n",
    "# asd.computeIIS()\n",
    "# asd.write(\"model.ilp\")\n",
    "\n",
    "Math_Model.ModelSense = GRB.MINIMIZE\n",
    "Math_Model.optimize()\n",
    "\n",
    "#for v in Math_Model.getVars():\n",
    "    #if(v.x>= -0.0001):\n",
    "        #print('%s %g' % (v.varName, v.x))\n",
    "\n",
    "vars = Math_Model.getVars()\n",
    "\n",
    "adjacency_df['Blocked']=np.zeros((n,1))\n",
    "\n",
    "adjacency_df['Ending_Infected']=np.zeros((n,1))\n",
    "\n",
    "\n",
    "for i in range(1,n+1):\n",
    "    adjacency_df.at[i,'Blocked']=vars[i-1].x\n",
    "    adjacency_df.at[i,'Ending_Infected']=vars[i+n-1].x\n",
    "\n",
    "Objective_Value = Math_Model.ObjVal\n",
    "\n",
    "adjacency_df.loc[(adjacency_df.loc[:,'IsRisky'] == 1) & (adjacency_df.loc[:,'Ending_Infected'] == 1) ,['Threshold','IsInfected','IsRisky','Blocked','Ending_Infected']]\n",
    "\n",
    "adjacency_df['Blocked'].to_csv(\"Math_Model_NODE-n\"+str(n)+'-m'+str(m)+'-OBJ'+str(Objective_Value)+\".csv\",index=False) \n",
    "end=time.time()"
   ]
  },
  {
   "cell_type": "code",
   "execution_count": 2,
   "metadata": {},
   "outputs": [
    {
     "name": "stdout",
     "output_type": "stream",
     "text": [
      "5.3209521770477295\n"
     ]
    }
   ],
   "source": [
    "print(end-start)"
   ]
  },
  {
   "cell_type": "code",
   "execution_count": 3,
   "metadata": {},
   "outputs": [],
   "source": [
    "ati=adjacency_df['Blocked'].tolist()"
   ]
  },
  {
   "cell_type": "code",
   "execution_count": 4,
   "metadata": {},
   "outputs": [
    {
     "data": {
      "text/plain": [
       "55.0"
      ]
     },
     "execution_count": 4,
     "metadata": {},
     "output_type": "execute_result"
    }
   ],
   "source": [
    "adjacency_df.loc[adjacency_df['Ending_Infected']==1,'IsRisky'].sum()"
   ]
  },
  {
   "cell_type": "code",
   "execution_count": 5,
   "metadata": {},
   "outputs": [
    {
     "data": {
      "text/plain": [
       "30.0"
      ]
     },
     "execution_count": 5,
     "metadata": {},
     "output_type": "execute_result"
    }
   ],
   "source": [
    "adjacency_df.loc[adjacency_df['Blocked']==1,'IsRisky'].sum()"
   ]
  },
  {
   "cell_type": "code",
   "execution_count": 6,
   "metadata": {},
   "outputs": [
    {
     "data": {
      "text/plain": [
       "26     1.0\n",
       "28     1.0\n",
       "29     1.0\n",
       "38     1.0\n",
       "47     1.0\n",
       "49     1.0\n",
       "55     1.0\n",
       "57     1.0\n",
       "61     1.0\n",
       "65     1.0\n",
       "107    1.0\n",
       "127    1.0\n",
       "136    1.0\n",
       "149    1.0\n",
       "158    1.0\n",
       "170    1.0\n",
       "183    1.0\n",
       "192    1.0\n",
       "194    1.0\n",
       "203    1.0\n",
       "211    1.0\n",
       "216    1.0\n",
       "218    1.0\n",
       "243    1.0\n",
       "257    1.0\n",
       "266    1.0\n",
       "269    1.0\n",
       "271    1.0\n",
       "277    1.0\n",
       "281    1.0\n",
       "Name: IsRisky, dtype: float64"
      ]
     },
     "execution_count": 6,
     "metadata": {},
     "output_type": "execute_result"
    }
   ],
   "source": [
    "adjacency_df.loc[adjacency_df['Blocked']==1,'IsRisky']"
   ]
  }
 ],
 "metadata": {
  "colab": {
   "collapsed_sections": [],
   "name": "Graph_Generation_for_Math_Model.ipynb",
   "provenance": []
  },
  "kernelspec": {
   "display_name": "Python 3",
   "language": "python",
   "name": "python3"
  },
  "language_info": {
   "codemirror_mode": {
    "name": "ipython",
    "version": 3
   },
   "file_extension": ".py",
   "mimetype": "text/x-python",
   "name": "python",
   "nbconvert_exporter": "python",
   "pygments_lexer": "ipython3",
   "version": "3.7.6"
  }
 },
 "nbformat": 4,
 "nbformat_minor": 1
}
